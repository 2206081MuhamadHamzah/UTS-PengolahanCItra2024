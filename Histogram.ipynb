#dekomposisi R, G, B dari citra berwarna
import cv2
import numpy as np
from matplotlib import pyplot as plt

# Membaca citra grayscale
image = cv2.imread('Kiyosaki-9.jpg', cv2.IMREAD_GRAYSCALE)
if image is None:
    print("Citra tidak ditemukan. Pastikan file citra tersedia!")
    exit()

# Menghitung histogram
hist = cv2.calcHist([image], [0], None, [256], [0, 256])

# Normalisasi histogram
normalized_hist = hist / hist.sum()

# Menampilkan citra grayscale
plt.figure(figsize=(12, 6))

plt.subplot(1, 3, 1)
plt.imshow(image, cmap='gray')
plt.title('Citra Grayscale')
plt.axis('off')

# Menampilkan histogram
plt.subplot(1, 3, 2)
plt.plot(hist, color='blue')
plt.title('Histogram')
plt.xlabel('Intensitas Pixel')
plt.ylabel('Jumlah Pixel')

# Menampilkan histogram normalisasi
plt.subplot(1, 3, 3)
plt.plot(normalized_hist, color='red')
plt.title('Histogram Normalisasi')
plt.xlabel('Intensitas Pixel')
plt.ylabel('Frekuensi Normalisasi')

plt.tight_layout()
plt.show()
